{
 "cells": [
  {
   "cell_type": "markdown",
   "id": "c96b8c29-4287-401c-922a-4321530f44e1",
   "metadata": {},
   "source": [
    "### Charger les données\n",
    "Importer les bibliothèques nécessaires.\n",
    "\n",
    "Charger les données depuis un fichier CSV.\n",
    "\n",
    "Diviser les données en ensembles d'entraînement et de test."
   ]
  },
  {
   "cell_type": "code",
   "execution_count": 7,
   "id": "6a619073-cca6-42a7-a1ab-8187649d2c96",
   "metadata": {},
   "outputs": [
    {
     "name": "stdout",
     "output_type": "stream",
     "text": [
      "Train: 102\n",
      "Test: 48\n"
     ]
    }
   ],
   "source": [
    "import csv\n",
    "import random\n",
    "\n",
    "# Fonction pour charger les données\n",
    "def loadDataset(filename, split, trainingSet=[], testSet=[]):\n",
    "    try:\n",
    "        with open(filename, 'r') as csvfile:\n",
    "            lines = csv.reader(csvfile)\n",
    "            dataset = list(lines)\n",
    "            for x in range(len(dataset)):\n",
    "                for y in range(4):  # Assurer que seulement les 4 premières colonnes sont des caractéristiques\n",
    "                    dataset[x][y] = float(dataset[x][y])  # Convertir les caractéristiques en float\n",
    "                if random.random() < split:\n",
    "                    trainingSet.append(dataset[x])  # Ajouter à l'ensemble d'entraînement\n",
    "                else:\n",
    "                    testSet.append(dataset[x])  # Ajouter à l'ensemble de test\n",
    "    except FileNotFoundError:\n",
    "        print(f\"Erreur : Le fichier {filename} est introuvable. Veuillez vérifier le chemin.\")\n",
    "        return\n",
    "\n",
    "# Charger les données\n",
    "trainingSet = []\n",
    "testSet = []\n",
    "loadDataset(r'C:\\Users\\HP\\Downloads\\iris.data.txt', 0.66, trainingSet, testSet)  # Utilisez un chemin absolu\n",
    "\n",
    "# Affichage du nombre d'éléments dans les ensembles de données d'entraînement et de test\n",
    "print(f\"Train: {len(trainingSet)}\")\n",
    "print(f\"Test: {len(testSet)}\")\n"
   ]
  },
  {
   "cell_type": "markdown",
   "id": "661368ab-865b-4a21-9cf8-238836980ba5",
   "metadata": {},
   "source": [
    "### Calculer la distance euclidienne\n",
    "Définir la fonction de distance euclidienne.\n",
    "\n",
    "Tester la fonction avec des exemples de données."
   ]
  },
  {
   "cell_type": "code",
   "execution_count": 8,
   "id": "a2c040be-5682-47ce-9059-7d51fbe214ef",
   "metadata": {},
   "outputs": [
    {
     "name": "stdout",
     "output_type": "stream",
     "text": [
      "Distance: 3.4641016151377544\n"
     ]
    }
   ],
   "source": [
    "import math\n",
    "\n",
    "# Fonction pour calculer la distance euclidienne\n",
    "def euclideanDistance(instance1, instance2, length):\n",
    "    distance = 0\n",
    "    for i in range(length):\n",
    "        distance += (instance1[i] - instance2[i]) ** 2\n",
    "    return math.sqrt(distance)\n",
    "\n",
    "# Tester la fonction\n",
    "data1 = [2, 2, 2, 'a']\n",
    "data2 = [4, 4, 4, 'b']\n",
    "distance = euclideanDistance(data1, data2, 3)\n",
    "print(f\"Distance: {distance}\")"
   ]
  },
  {
   "cell_type": "markdown",
   "id": "efd089b5-3588-4e85-85b2-a2f713f7fa2f",
   "metadata": {},
   "source": [
    "### Trouver les k plus proches voisins\n",
    "Définir la fonction getNeighbors pour trouver les k voisins les plus proches.\n",
    "\n",
    "Tester la fonction avec un exemple"
   ]
  },
  {
   "cell_type": "code",
   "execution_count": 9,
   "id": "2c7ed308-5acb-4155-b240-d62617364c05",
   "metadata": {},
   "outputs": [
    {
     "name": "stdout",
     "output_type": "stream",
     "text": [
      "Neighbors: [[4, 4, 4, 'b']]\n"
     ]
    }
   ],
   "source": [
    "import operator\n",
    "\n",
    "# Fonction pour trouver les k plus proches voisins\n",
    "def getNeighbors(trainingSet, testInstance, k):\n",
    "    distances = []\n",
    "    length = len(testInstance) - 1\n",
    "    for x in range(len(trainingSet)):\n",
    "        dist = euclideanDistance(testInstance, trainingSet[x], length)\n",
    "        distances.append((trainingSet[x], dist))\n",
    "    distances.sort(key=operator.itemgetter(1))\n",
    "    neighbors = []\n",
    "    for x in range(k):\n",
    "        neighbors.append(distances[x][0])\n",
    "    return neighbors\n",
    "\n",
    "# Tester la fonction\n",
    "trainSet = [[2, 2, 2, 'a'], [4, 4, 4, 'b']]\n",
    "testInstance = [5, 5, 5]\n",
    "k = 1\n",
    "neighbors = getNeighbors(trainSet, testInstance, k)\n",
    "print(f\"Neighbors: {neighbors}\")"
   ]
  },
  {
   "cell_type": "markdown",
   "id": "88dac8d9-5afb-4c6b-a0a2-1efe57432bbc",
   "metadata": {},
   "source": [
    "### Générer une réponse (vote majoritaire)\n",
    "Définir la fonction getResponse pour obtenir la classe majoritaire parmi les voisins.\n",
    "\n",
    "Tester la fonction avec un exemple."
   ]
  },
  {
   "cell_type": "code",
   "execution_count": 10,
   "id": "56c411ea-26d4-4920-85ec-c086eed3da13",
   "metadata": {},
   "outputs": [
    {
     "name": "stdout",
     "output_type": "stream",
     "text": [
      "Response: a\n"
     ]
    }
   ],
   "source": [
    "# Fonction pour obtenir la réponse (vote majoritaire)\n",
    "def getResponse(neighbors):\n",
    "    classVotes = {}\n",
    "    for x in range(len(neighbors)):\n",
    "        response = neighbors[x][-1]  # La classe est le dernier élément\n",
    "        if response in classVotes:\n",
    "            classVotes[response] += 1\n",
    "        else:\n",
    "            classVotes[response] = 1\n",
    "    sortedVotes = sorted(classVotes.items(), key=operator.itemgetter(1), reverse=True)\n",
    "    return sortedVotes[0][0]\n",
    "\n",
    "# Tester la fonction\n",
    "neighbors = [[1, 1, 1, 'a'], [2, 2, 2, 'a'], [3, 3, 3, 'b']]\n",
    "response = getResponse(neighbors)\n",
    "print(f\"Response: {response}\")"
   ]
  },
  {
   "cell_type": "markdown",
   "id": "12e7bc5b-10a1-4675-a6ab-1a8befe6c1f5",
   "metadata": {},
   "source": [
    "###  Calculer la précision\n",
    "Définir la fonction getAccuracy pour calculer la précision des prédictions.\n",
    "\n",
    "Tester la fonction avec un exemple"
   ]
  },
  {
   "cell_type": "code",
   "execution_count": 11,
   "id": "2472b427-ad69-4b99-9a71-92ea4bb9ec73",
   "metadata": {},
   "outputs": [
    {
     "name": "stdout",
     "output_type": "stream",
     "text": [
      "Accuracy: 66.66666666666666%\n"
     ]
    }
   ],
   "source": [
    "# Fonction pour calculer la précision\n",
    "def getAccuracy(testSet, predictions):\n",
    "    correct = 0\n",
    "    for x in range(len(testSet)):\n",
    "        if testSet[x][-1] == predictions[x]:\n",
    "            correct += 1\n",
    "    return (correct / float(len(testSet))) * 100.0\n",
    "\n",
    "# Tester la fonction\n",
    "testSet = [[1, 1, 1, 'a'], [2, 2, 2, 'a'], [3, 3, 3, 'b']]\n",
    "predictions = ['a', 'a', 'a']\n",
    "accuracy = getAccuracy(testSet, predictions)\n",
    "print(f\"Accuracy: {accuracy}%\")"
   ]
  },
  {
   "cell_type": "markdown",
   "id": "0595a91a-9848-4c6d-8ec9-c52b79522718",
   "metadata": {},
   "source": [
    "### Fonction principale\n",
    "Combiner toutes les étapes dans une fonction principale.\n",
    "\n",
    "Tester l'algorithme KNN sur l'ensemble de données Iris."
   ]
  },
  {
   "cell_type": "code",
   "execution_count": 14,
   "id": "3563fc43-66ab-4e60-9491-dbc3eb2dc674",
   "metadata": {},
   "outputs": [
    {
     "name": "stdout",
     "output_type": "stream",
     "text": [
      "Train: 93\n",
      "Test: 57\n",
      "Predicted: Iris-setosa, Actual: Iris-setosa\n",
      "Predicted: Iris-setosa, Actual: Iris-setosa\n",
      "Predicted: Iris-setosa, Actual: Iris-setosa\n",
      "Predicted: Iris-setosa, Actual: Iris-setosa\n",
      "Predicted: Iris-setosa, Actual: Iris-setosa\n",
      "Predicted: Iris-setosa, Actual: Iris-setosa\n",
      "Predicted: Iris-setosa, Actual: Iris-setosa\n",
      "Predicted: Iris-setosa, Actual: Iris-setosa\n",
      "Predicted: Iris-setosa, Actual: Iris-setosa\n",
      "Predicted: Iris-setosa, Actual: Iris-setosa\n",
      "Predicted: Iris-setosa, Actual: Iris-setosa\n",
      "Predicted: Iris-setosa, Actual: Iris-setosa\n",
      "Predicted: Iris-setosa, Actual: Iris-setosa\n",
      "Predicted: Iris-setosa, Actual: Iris-setosa\n",
      "Predicted: Iris-setosa, Actual: Iris-setosa\n",
      "Predicted: Iris-setosa, Actual: Iris-setosa\n",
      "Predicted: Iris-setosa, Actual: Iris-setosa\n",
      "Predicted: Iris-versicolor, Actual: Iris-versicolor\n",
      "Predicted: Iris-versicolor, Actual: Iris-versicolor\n",
      "Predicted: Iris-versicolor, Actual: Iris-versicolor\n",
      "Predicted: Iris-versicolor, Actual: Iris-versicolor\n",
      "Predicted: Iris-versicolor, Actual: Iris-versicolor\n",
      "Predicted: Iris-versicolor, Actual: Iris-versicolor\n",
      "Predicted: Iris-versicolor, Actual: Iris-versicolor\n",
      "Predicted: Iris-versicolor, Actual: Iris-versicolor\n",
      "Predicted: Iris-versicolor, Actual: Iris-versicolor\n",
      "Predicted: Iris-versicolor, Actual: Iris-versicolor\n",
      "Predicted: Iris-versicolor, Actual: Iris-versicolor\n",
      "Predicted: Iris-versicolor, Actual: Iris-versicolor\n",
      "Predicted: Iris-versicolor, Actual: Iris-versicolor\n",
      "Predicted: Iris-versicolor, Actual: Iris-versicolor\n",
      "Predicted: Iris-versicolor, Actual: Iris-versicolor\n",
      "Predicted: Iris-versicolor, Actual: Iris-versicolor\n",
      "Predicted: Iris-versicolor, Actual: Iris-versicolor\n",
      "Predicted: Iris-versicolor, Actual: Iris-versicolor\n",
      "Predicted: Iris-versicolor, Actual: Iris-versicolor\n",
      "Predicted: Iris-virginica, Actual: Iris-virginica\n",
      "Predicted: Iris-virginica, Actual: Iris-virginica\n",
      "Predicted: Iris-virginica, Actual: Iris-virginica\n",
      "Predicted: Iris-virginica, Actual: Iris-virginica\n",
      "Predicted: Iris-virginica, Actual: Iris-virginica\n",
      "Predicted: Iris-virginica, Actual: Iris-virginica\n",
      "Predicted: Iris-virginica, Actual: Iris-virginica\n",
      "Predicted: Iris-versicolor, Actual: Iris-virginica\n",
      "Predicted: Iris-virginica, Actual: Iris-virginica\n",
      "Predicted: Iris-virginica, Actual: Iris-virginica\n",
      "Predicted: Iris-virginica, Actual: Iris-virginica\n",
      "Predicted: Iris-virginica, Actual: Iris-virginica\n",
      "Predicted: Iris-virginica, Actual: Iris-virginica\n",
      "Predicted: Iris-virginica, Actual: Iris-virginica\n",
      "Predicted: Iris-virginica, Actual: Iris-virginica\n",
      "Predicted: Iris-virginica, Actual: Iris-virginica\n",
      "Predicted: Iris-virginica, Actual: Iris-virginica\n",
      "Predicted: Iris-virginica, Actual: Iris-virginica\n",
      "Predicted: Iris-virginica, Actual: Iris-virginica\n",
      "Predicted: Iris-virginica, Actual: Iris-virginica\n",
      "Predicted: Iris-versicolor, Actual: Iris-virginica\n",
      "Accuracy: 96.49122807017544%\n"
     ]
    }
   ],
   "source": [
    "# Fonction principale pour KNN\n",
    "def main():\n",
    "    # Charger les données avec le chemin absolu\n",
    "    trainingSet = []\n",
    "    testSet = []\n",
    "    loadDataset(r'C:\\Users\\HP\\Downloads\\iris.data.txt', 0.66, trainingSet, testSet)  # Assurez-vous d'utiliser le chemin absolu correct\n",
    "    print(f\"Train: {len(trainingSet)}\")\n",
    "    print(f\"Test: {len(testSet)}\")\n",
    "\n",
    "    # Faire des prédictions\n",
    "    predictions = []\n",
    "    k = 3  # Nombre de voisins\n",
    "    for x in range(len(testSet)):\n",
    "        neighbors = getNeighbors(trainingSet, testSet[x], k)\n",
    "        result = getResponse(neighbors)\n",
    "        predictions.append(result)\n",
    "        print(f\"Predicted: {result}, Actual: {testSet[x][-1]}\")\n",
    "\n",
    "    # Calculer la précision\n",
    "    accuracy = getAccuracy(testSet, predictions)\n",
    "    print(f\"Accuracy: {accuracy}%\")\n",
    "\n",
    "# Exécuter la fonction principale\n",
    "main()\n"
   ]
  },
  {
   "cell_type": "markdown",
   "id": "58af4062-71bf-4bfe-9e41-42c58de246ab",
   "metadata": {},
   "source": [
    "### Ajouter une autre métrique de distance\n",
    "Définir une autre métrique de distance, par exemple la distance de Manhattan.\n",
    "\n",
    "Intégrer cette métrique dans l'algorithme KNN."
   ]
  },
  {
   "cell_type": "code",
   "execution_count": 15,
   "id": "ca514751-36cd-4c94-b776-11eb219b19a3",
   "metadata": {},
   "outputs": [],
   "source": [
    "# Fonction pour calculer la distance de Manhattan\n",
    "def manhattanDistance(instance1, instance2, length):\n",
    "    distance = 0\n",
    "    for i in range(length):\n",
    "        distance += abs(instance1[i] - instance2[i])\n",
    "    return distance\n",
    "\n",
    "# Modifier la fonction getNeighbors pour utiliser la distance de Manhattan\n",
    "def getNeighbors(trainingSet, testInstance, k, distance_metric='euclidean'):\n",
    "    distances = []\n",
    "    length = len(testInstance) - 1\n",
    "    for x in range(len(trainingSet)):\n",
    "        if distance_metric == 'euclidean':\n",
    "            dist = euclideanDistance(testInstance, trainingSet[x], length)\n",
    "        elif distance_metric == 'manhattan':\n",
    "            dist = manhattanDistance(testInstance, trainingSet[x], length)\n",
    "        distances.append((trainingSet[x], dist))\n",
    "    distances.sort(key=operator.itemgetter(1))\n",
    "    neighbors = []\n",
    "    for x in range(k):\n",
    "        neighbors.append(distances[x][0])\n",
    "    return neighbors"
   ]
  },
  {
   "cell_type": "code",
   "execution_count": null,
   "id": "901b9f2e-0142-418d-86e4-a86b2055165c",
   "metadata": {},
   "outputs": [],
   "source": []
  }
 ],
 "metadata": {
  "kernelspec": {
   "display_name": "Python 3 (ipykernel)",
   "language": "python",
   "name": "python3"
  },
  "language_info": {
   "codemirror_mode": {
    "name": "ipython",
    "version": 3
   },
   "file_extension": ".py",
   "mimetype": "text/x-python",
   "name": "python",
   "nbconvert_exporter": "python",
   "pygments_lexer": "ipython3",
   "version": "3.12.7"
  }
 },
 "nbformat": 4,
 "nbformat_minor": 5
}
